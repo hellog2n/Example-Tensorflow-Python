{
  "nbformat": 4,
  "nbformat_minor": 0,
  "metadata": {
    "colab": {
      "name": "StyleGAN2.ipynb",
      "provenance": [],
      "collapsed_sections": [],
      "authorship_tag": "ABX9TyPmJZZHZKGEu9T1kLUTUpEh",
      "include_colab_link": true
    },
    "kernelspec": {
      "name": "python3",
      "display_name": "Python 3"
    },
    "language_info": {
      "name": "python"
    },
    "accelerator": "GPU"
  },
  "cells": [
    {
      "cell_type": "markdown",
      "metadata": {
        "id": "view-in-github",
        "colab_type": "text"
      },
      "source": [
        "<a href=\"https://colab.research.google.com/github/hellog2n/Example-Tensorflow-Python/blob/main/StyleGAN2-test.ipynb\" target=\"_parent\"><img src=\"https://colab.research.google.com/assets/colab-badge.svg\" alt=\"Open In Colab\"/></a>"
      ]
    },
    {
      "cell_type": "markdown",
      "source": [
        "# StyleGAN2 Code Clone 하기\n",
        "NVIDIA에서 제공하는 StyleGAN2 코드를 로드합니다."
      ],
      "metadata": {
        "id": "EIyjpyvRKZrq"
      }
    },
    {
      "cell_type": "code",
      "execution_count": 1,
      "metadata": {
        "colab": {
          "base_uri": "https://localhost:8080/"
        },
        "id": "VIa3ZatWEagT",
        "outputId": "3d0f3c7e-6b3d-4c37-9059-22b3c80bda5f"
      },
      "outputs": [
        {
          "output_type": "stream",
          "name": "stdout",
          "text": [
            "Cloning into 'stylegan2'...\n",
            "remote: Enumerating objects: 138, done.\u001b[K\n",
            "remote: Counting objects: 100% (11/11), done.\u001b[K\n",
            "remote: Compressing objects: 100% (7/7), done.\u001b[K\n",
            "remote: Total 138 (delta 4), reused 10 (delta 4), pack-reused 127\u001b[K\n",
            "Receiving objects: 100% (138/138), 599.47 KiB | 6.38 MiB/s, done.\n",
            "Resolving deltas: 100% (62/62), done.\n"
          ]
        }
      ],
      "source": [
        "!git clone https://github.com/NVlabs/stylegan2"
      ]
    },
    {
      "cell_type": "markdown",
      "source": [
        "현재 경로를 클론한 stylegan2 폴더로 이동합니다."
      ],
      "metadata": {
        "id": "k4fwO1j_KsBr"
      }
    },
    {
      "cell_type": "code",
      "source": [
        "%cd stylegan2"
      ],
      "metadata": {
        "colab": {
          "base_uri": "https://localhost:8080/"
        },
        "id": "g6agYSDVE1dq",
        "outputId": "0ee227f1-538b-420b-fba9-246c99e0d160"
      },
      "execution_count": 6,
      "outputs": [
        {
          "output_type": "stream",
          "name": "stdout",
          "text": [
            "/content/stylegan2\n"
          ]
        }
      ]
    },
    {
      "cell_type": "markdown",
      "source": [
        "---"
      ],
      "metadata": {
        "id": "igrIn2f_KgmM"
      }
    },
    {
      "cell_type": "markdown",
      "source": [
        "# Tensorflow Version 변경\n",
        "tensorflow version을 1.14로 변경합니다.\n",
        "이 이유는 공식 홈페이지 소스코드는 tensorflow 1.14 ~ 1.15을 지원하기 때문입니다."
      ],
      "metadata": {
        "id": "xZpJv5b-Konk"
      }
    },
    {
      "cell_type": "code",
      "source": [
        "!pip install tensorflow==1.14"
      ],
      "metadata": {
        "id": "7GvFczIfFDMz"
      },
      "execution_count": null,
      "outputs": []
    },
    {
      "cell_type": "code",
      "source": [
        "!pip install tensorflow-gpu==1.14"
      ],
      "metadata": {
        "id": "LEK-pDYbFDRi"
      },
      "execution_count": null,
      "outputs": []
    },
    {
      "cell_type": "code",
      "source": [
        "import tensorflow as tf\n",
        "print(tf.__version__)"
      ],
      "metadata": {
        "colab": {
          "base_uri": "https://localhost:8080/"
        },
        "id": "IJ81ts6GF4lL",
        "outputId": "65d44129-fb4c-4ba2-db1b-1d67e76dfd8f"
      },
      "execution_count": 15,
      "outputs": [
        {
          "output_type": "stream",
          "name": "stdout",
          "text": [
            "1.14.0\n"
          ]
        }
      ]
    },
    {
      "cell_type": "markdown",
      "source": [
        "stylegan2 코드에서 제공하고 있는 GPU, CPU 확인을 위한 파일을 실행해서\n",
        "현재 내가 CPU, GPU가 사용 가능한지 확인해봅니다.\n",
        "\n",
        "```\n",
        "CPU says hello.\n",
        "GPU says hello.\n",
        "```\n",
        "가 뜨면 잘 작동한다는 것을 알 수 있습니다.\n",
        "\n"
      ],
      "metadata": {
        "id": "p1FRKNb7KxR-"
      }
    },
    {
      "cell_type": "code",
      "source": [
        "!nvcc test_nvcc.cu -o test_nvcc -run"
      ],
      "metadata": {
        "colab": {
          "base_uri": "https://localhost:8080/"
        },
        "id": "jw3FEFnVE4Ka",
        "outputId": "4915e0e2-b803-4db0-8e4d-7f089ffc4d36"
      },
      "execution_count": 4,
      "outputs": [
        {
          "output_type": "stream",
          "name": "stdout",
          "text": [
            "CPU says hello.\n",
            "GPU says hello.\n"
          ]
        }
      ]
    },
    {
      "cell_type": "markdown",
      "source": [
        "## Pretrained Network를 로드해서 이미지를 샘플링 해봅시다."
      ],
      "metadata": {
        "id": "OMVx-cnwLHLn"
      }
    },
    {
      "cell_type": "markdown",
      "source": [
        "혹시 만약에 \n",
        "\n",
        "> tensorflow.python.framework.errors_impl.NotFoundError: /root/stylegan2_train/dnnlib/tflib/_cudacache/fused_bias_act_ec21d79f0dc288505704f796449a968e.so: undefined symbol: _ZN10tensorflow12OpDefBuilder6OutputESs\n",
        "\n",
        "\n",
        "이 에러 로그가 발생할 경우, \n",
        "```stylegan2/dnnlib/tflib/custom_ops.py```로 가셔서 127번째 줄\n",
        "\n",
        "```compile_opts += ' --compiler-options \\'-fPIC -D_GLIBCXX_USE_CXX11_ABI=0\\''``` 을 \n",
        "```compile_opts += ' --compiler-options \\'-fPIC -D_GLIBCXX_USE_CXX11_ABI=1\\''``` 로 수정해주세요.\n",
        "\n",
        "\n",
        "---\n",
        "\n",
        "샘플링 실행 코드는 아래와 같습니다.\n",
        "\n",
        "* --network : 네트워크의 pkl 파일이 담긴 경로 주소 (공식에서 제공합니다.)\n",
        "* --seeds : code에서는 각 seed에서 하나씩 이미지를 샘플링 하는 것 같네요.\n",
        "(예를 들면, 내가 이미지 10장을 뽑고 싶다면 1000-1009 로 설정 할 수 있는 것 같네요. 이건 공식 홈페이지에서도 참고할 수 있을 듯 합니다.)\n",
        "\n",
        "* --truncation-psi : Truncation Trick을 통해 이미지의 다양성을 조절하면서 샘플링이 가능한 것 같습니다.\n",
        "0일 수록 다양성이 없으며, 숫자가 커질 수록 다양성이 늘어납니다.\n",
        "\n",
        "\n",
        "```!python run_generator.py generate-images --network=gdrive:networks/stylegan2-cat-config-f.pkl --seeds=1001-1004 --truncation-psi=0.1```\n",
        "\n"
      ],
      "metadata": {
        "id": "s_O5GRZrLXmJ"
      }
    },
    {
      "cell_type": "code",
      "source": [
        "# Generate uncurated \bcat images (matches paper Figure 12)\n",
        "!python run_generator.py generate-images --network=gdrive:networks/stylegan2-cat-config-f.pkl --seeds=1000-5999 --truncation-psi=0"
      ],
      "metadata": {
        "id": "f3FxNWaJE7n7"
      },
      "execution_count": null,
      "outputs": []
    },
    {
      "cell_type": "markdown",
      "source": [
        "# (기타) NVIDIA CUDA 버전 및 CUDA Driver 버전 확인하기\n",
        "이것은 Colab 사용 시 각자가 사용하는 GPU의 정보를 불러오는 코드입니다."
      ],
      "metadata": {
        "id": "quwmXpAlMti8"
      }
    },
    {
      "cell_type": "code",
      "source": [
        "!nvcc -V"
      ],
      "metadata": {
        "id": "YtqfuYCcFrc0"
      },
      "execution_count": null,
      "outputs": []
    },
    {
      "cell_type": "code",
      "source": [
        "!nvidia-smi"
      ],
      "metadata": {
        "id": "-piUl9lGFs3s"
      },
      "execution_count": null,
      "outputs": []
    },
    {
      "cell_type": "markdown",
      "source": [
        "# (진행중) LSUN-object Real Dataset Load"
      ],
      "metadata": {
        "id": "ndMezklotdx1"
      }
    },
    {
      "cell_type": "code",
      "source": [
        "!python lsun "
      ],
      "metadata": {
        "id": "hnzTHeBTh4NM"
      },
      "execution_count": null,
      "outputs": []
    },
    {
      "cell_type": "code",
      "source": [
        "import tensorflow_datasets as tfds"
      ],
      "metadata": {
        "id": "9t13HheHeXyE"
      },
      "execution_count": 3,
      "outputs": []
    },
    {
      "cell_type": "code",
      "source": [
        "!python3 lsun/download_objects.py -c cat -o data"
      ],
      "metadata": {
        "id": "iV94ZGtDfytJ"
      },
      "execution_count": null,
      "outputs": []
    }
  ]
}